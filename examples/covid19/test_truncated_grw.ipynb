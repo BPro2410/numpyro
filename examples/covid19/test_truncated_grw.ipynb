{
 "cells": [
  {
   "cell_type": "code",
   "execution_count": 1,
   "id": "distributed-category",
   "metadata": {},
   "outputs": [
    {
     "name": "stderr",
     "output_type": "stream",
     "text": [
      "Building...\n",
      "Found model in cache. Done.\n",
      "Sampling...\n",
      "  0/22 [>---------------------------]   0%  1 sec/0     \n",
      " 22/22 [============================] 100%  1 sec/0     \n",
      " 22/22 [============================] 100%  1 sec/0   Messages received during sampling:\n",
      "  Gradient evaluation took 6.8e-05 seconds\n",
      "  1000 transitions using 10 leapfrog steps per transition would take 0.68 seconds.\n",
      "  Adjust your expectations accordingly!\n",
      "  WARNING: There aren't enough warmup iterations to fit the\n",
      "           three stages of adaptation as currently configured.\n",
      "           Reducing each adaptation stage to 15%/75%/10% of\n",
      "           the given number of warmup iterations:\n",
      "             init_buffer = 3\n",
      "             adapt_window = 15\n",
      "             term_buffer = 2\n",
      "\n",
      " 22/22 [============================] 100%  1 sec/0     \n",
      "Done.\n"
     ]
    }
   ],
   "source": [
    "import nest_asyncio; nest_asyncio.apply()\n",
    "import stan\n",
    "from age_model import get_data\n",
    "\n",
    "truncated_code = \"\"\"\n",
    "data {\n",
    "  int<lower=1> M; // number of countries\n",
    "  int<lower=1> N2; // days of observed data + # of days to forecast\n",
    "  int<lower=1, upper=N2> N_IMP; // number of impact invervention time effects\n",
    "}\n",
    "parameters {\n",
    "  real<lower=0> upswing_timeeff_reduced[N_IMP,M];\n",
    "  real<lower=0> sd_upswing_timeeff_reduced;\n",
    "}\n",
    "model {\n",
    "  target += normal_lpdf( to_array_1d(upswing_timeeff_reduced[2:N_IMP,:]) | to_array_1d(upswing_timeeff_reduced[1:(N_IMP-1),:]), sd_upswing_timeeff_reduced);\n",
    "}\n",
    "\"\"\"\n",
    "\n",
    "data = get_data()\n",
    "truncated_data = {k: v for k, v in data.items() if k in [\"M\", \"N2\", \"N_IMP\"]}\n",
    "\n",
    "stan_model = stan.build(truncated_code, data=truncated_data)\n",
    "stan_fit = stan_model.sample(num_chains=1, num_warmup=20, stepsize=1e-3, max_depth=5, num_samples=2)\n",
    "params = stan_fit.to_frame().to_dict()"
   ]
  },
  {
   "cell_type": "code",
   "execution_count": 4,
   "id": "differential-journalism",
   "metadata": {},
   "outputs": [
    {
     "data": {
      "text/plain": [
       "{'lp__': {0: -64.86008126351412, 1: -60.28787050580138},\n",
       " 'accept_stat__': {0: 0.9806980245959045, 1: 0.9999577083206175},\n",
       " 'stepsize__': {0: 0.043184714210807024, 1: 0.043184714210807024},\n",
       " 'treedepth__': {0: 5.0, 1: 5.0},\n",
       " 'n_leapfrog__': {0: 31.0, 1: 31.0},\n",
       " 'divergent__': {0: 0.0, 1: 0.0},\n",
       " 'energy__': {0: 91.9885468853933, 1: 87.84960453727481},\n",
       " 'upswing_timeeff_reduced.1.1': {0: 2.375799222800284, 1: 1.9291999902099422},\n",
       " 'upswing_timeeff_reduced.2.1': {0: 2.0841188848600574, 1: 2.666816788370434},\n",
       " 'upswing_timeeff_reduced.3.1': {0: 2.340021644709324, 1: 2.260486077031473},\n",
       " 'upswing_timeeff_reduced.4.1': {0: 0.210022177744121, 1: 0.5331445264822792},\n",
       " 'upswing_timeeff_reduced.5.1': {0: 1.3185738630305759, 1: 1.089362305155561},\n",
       " 'upswing_timeeff_reduced.6.1': {0: 1.020626988387528, 1: 0.5110392330904157},\n",
       " 'upswing_timeeff_reduced.7.1': {0: 0.6110298956828462,\n",
       "  1: 0.42935770482944235},\n",
       " 'upswing_timeeff_reduced.8.1': {0: 1.687580054379362, 1: 1.0105258315295007},\n",
       " 'upswing_timeeff_reduced.9.1': {0: 1.2682185838659092, 1: 1.5970778483973513},\n",
       " 'upswing_timeeff_reduced.10.1': {0: 3.292744823349426, 1: 1.7840436820221057},\n",
       " 'upswing_timeeff_reduced.11.1': {0: 2.086076285512874, 1: 1.7698859800927338},\n",
       " 'upswing_timeeff_reduced.12.1': {0: 0.3171057619645512,\n",
       "  1: 0.33193478459514797},\n",
       " 'upswing_timeeff_reduced.13.1': {0: 1.432686589336174, 1: 1.7428581954624613},\n",
       " 'upswing_timeeff_reduced.14.1': {0: 2.4850099162404535,\n",
       "  1: 3.4481038164403675},\n",
       " 'upswing_timeeff_reduced.1.2': {0: 3.3141863595455665, 1: 5.055708700031846},\n",
       " 'upswing_timeeff_reduced.2.2': {0: 3.515117882911182, 1: 3.802949218723448},\n",
       " 'upswing_timeeff_reduced.3.2': {0: 2.1139429530263607, 1: 3.20267899264468},\n",
       " 'upswing_timeeff_reduced.4.2': {0: 1.0057872453260899, 1: 1.9934632937880032},\n",
       " 'upswing_timeeff_reduced.5.2': {0: 1.5396943817578268, 1: 1.2701170565126325},\n",
       " 'upswing_timeeff_reduced.6.2': {0: 1.4195332137475005, 1: 1.833010228617961},\n",
       " 'upswing_timeeff_reduced.7.2': {0: 1.3071314018670361, 1: 0.9713419600257137},\n",
       " 'upswing_timeeff_reduced.8.2': {0: 0.6495184823094609, 1: 0.9587018358141066},\n",
       " 'upswing_timeeff_reduced.9.2': {0: 1.71812801238496, 1: 2.0845125749419964},\n",
       " 'upswing_timeeff_reduced.10.2': {0: 1.1992378583687837,\n",
       "  1: 2.0344103403102065},\n",
       " 'upswing_timeeff_reduced.11.2': {0: 0.23719805000845215,\n",
       "  1: 0.17142866277266652},\n",
       " 'upswing_timeeff_reduced.12.2': {0: 0.7968652447760284,\n",
       "  1: 0.4644510896795093},\n",
       " 'upswing_timeeff_reduced.13.2': {0: 0.351457632659851, 1: 0.2051586631629089},\n",
       " 'upswing_timeeff_reduced.14.2': {0: 0.09680730894854246,\n",
       "  1: 0.15019800837296493},\n",
       " 'upswing_timeeff_reduced.1.3': {0: 2.30230092821371, 1: 1.1729230598094307},\n",
       " 'upswing_timeeff_reduced.2.3': {0: 0.5725473075287193, 1: 0.3571869935961279},\n",
       " 'upswing_timeeff_reduced.3.3': {0: 0.008550392632084257,\n",
       "  1: 0.010252138729352957},\n",
       " 'upswing_timeeff_reduced.4.3': {0: 0.27990998463765154,\n",
       "  1: 0.27484260508060354},\n",
       " 'upswing_timeeff_reduced.5.3': {0: 0.6445196699457691, 1: 0.520042194967906},\n",
       " 'upswing_timeeff_reduced.6.3': {0: 1.3576364896730957, 1: 1.0273669929958682},\n",
       " 'upswing_timeeff_reduced.7.3': {0: 0.43730879345125406,\n",
       "  1: 0.5192035390539417},\n",
       " 'upswing_timeeff_reduced.8.3': {0: 0.6837999901571093, 1: 1.9424170729499677},\n",
       " 'upswing_timeeff_reduced.9.3': {0: 1.7029643275358193, 1: 1.3723459193543859},\n",
       " 'upswing_timeeff_reduced.10.3': {0: 3.159563829785784, 1: 3.0687057502921293},\n",
       " 'upswing_timeeff_reduced.11.3': {0: 4.530460587403976, 1: 4.007346791925153},\n",
       " 'upswing_timeeff_reduced.12.3': {0: 5.9845514101136725, 1: 4.655771931021247},\n",
       " 'upswing_timeeff_reduced.13.3': {0: 4.640697197586416, 1: 6.2704569826316305},\n",
       " 'upswing_timeeff_reduced.14.3': {0: 4.834953891250951, 1: 6.563767053851791},\n",
       " 'upswing_timeeff_reduced.1.4': {0: 1.1876486617120172, 1: 2.0226910552408417},\n",
       " 'upswing_timeeff_reduced.2.4': {0: 0.38166050495347703,\n",
       "  1: 0.2545876461098548},\n",
       " 'upswing_timeeff_reduced.3.4': {0: 2.4606492244197025, 1: 2.060393757748837},\n",
       " 'upswing_timeeff_reduced.4.4': {0: 1.6872945121573104, 1: 1.3904325675399902},\n",
       " 'upswing_timeeff_reduced.5.4': {0: 0.9957066658679634, 1: 1.0944102407223804},\n",
       " 'upswing_timeeff_reduced.6.4': {0: 2.6973555724332745, 1: 1.6894369790730595},\n",
       " 'upswing_timeeff_reduced.7.4': {0: 2.0141312184109696, 1: 2.838104126680258},\n",
       " 'upswing_timeeff_reduced.8.4': {0: 2.0786284325090767, 1: 2.5737568043784234},\n",
       " 'upswing_timeeff_reduced.9.4': {0: 1.1925928297117192, 1: 0.8865381739130755},\n",
       " 'upswing_timeeff_reduced.10.4': {0: 2.0141155800431227,\n",
       "  1: 1.2765333192143886},\n",
       " 'upswing_timeeff_reduced.11.4': {0: 3.7772090192799093, 1: 2.897673921792147},\n",
       " 'upswing_timeeff_reduced.12.4': {0: 4.034608787453581, 1: 3.5393967381022424},\n",
       " 'upswing_timeeff_reduced.13.4': {0: 3.9166036104250908,\n",
       "  1: 2.4260958287039127},\n",
       " 'upswing_timeeff_reduced.14.4': {0: 1.5942570535101734,\n",
       "  1: 2.9064148281727613},\n",
       " 'sd_upswing_timeeff_reduced': {0: 1.1796056876002896, 1: 0.9937854269551547}}"
      ]
     },
     "execution_count": 4,
     "metadata": {},
     "output_type": "execute_result"
    }
   ],
   "source": [
    "params"
   ]
  },
  {
   "cell_type": "code",
   "execution_count": 5,
   "id": "generous-bobby",
   "metadata": {},
   "outputs": [
    {
     "data": {
      "text/plain": [
       "{'upswing_timeeff_reduced': array([[2.37579922, 3.31418636, 2.30230093, 1.18764866],\n",
       "        [2.08411888, 3.51511788, 0.57254731, 0.3816605 ],\n",
       "        [2.34002164, 2.11394295, 0.00855039, 2.46064922],\n",
       "        [0.21002218, 1.00578725, 0.27990998, 1.68729451],\n",
       "        [1.31857386, 1.53969438, 0.64451967, 0.99570667],\n",
       "        [1.02062699, 1.41953321, 1.35763649, 2.69735557],\n",
       "        [0.6110299 , 1.3071314 , 0.43730879, 2.01413122],\n",
       "        [1.68758005, 0.64951848, 0.68379999, 2.07862843],\n",
       "        [1.26821858, 1.71812801, 1.70296433, 1.19259283],\n",
       "        [3.29274482, 1.19923786, 3.15956383, 2.01411558],\n",
       "        [2.08607629, 0.23719805, 4.53046059, 3.77720902],\n",
       "        [0.31710576, 0.79686524, 5.98455141, 4.03460879],\n",
       "        [1.43268659, 0.35145763, 4.6406972 , 3.91660361],\n",
       "        [2.48500992, 0.09680731, 4.83495389, 1.59425705]]),\n",
       " 'sd_upswing_timeeff_reduced': array(1.17960569)}"
      ]
     },
     "execution_count": 5,
     "metadata": {},
     "output_type": "execute_result"
    }
   ],
   "source": [
    "z0"
   ]
  },
  {
   "cell_type": "code",
   "execution_count": 6,
   "id": "virtual-honolulu",
   "metadata": {},
   "outputs": [
    {
     "data": {
      "text/plain": [
       "{'upswing_timeeff_reduced': array([[1.92919999, 5.0557087 , 1.17292306, 2.02269106],\n",
       "        [2.66681679, 3.80294922, 0.35718699, 0.25458765],\n",
       "        [2.26048608, 3.20267899, 0.01025214, 2.06039376],\n",
       "        [0.53314453, 1.99346329, 0.27484261, 1.39043257],\n",
       "        [1.08936231, 1.27011706, 0.52004219, 1.09441024],\n",
       "        [0.51103923, 1.83301023, 1.02736699, 1.68943698],\n",
       "        [0.4293577 , 0.97134196, 0.51920354, 2.83810413],\n",
       "        [1.01052583, 0.95870184, 1.94241707, 2.5737568 ],\n",
       "        [1.59707785, 2.08451257, 1.37234592, 0.88653817],\n",
       "        [1.78404368, 2.03441034, 3.06870575, 1.27653332],\n",
       "        [1.76988598, 0.17142866, 4.00734679, 2.89767392],\n",
       "        [0.33193478, 0.46445109, 4.65577193, 3.53939674],\n",
       "        [1.7428582 , 0.20515866, 6.27045698, 2.42609583],\n",
       "        [3.44810382, 0.15019801, 6.56376705, 2.90641483]]),\n",
       " 'sd_upswing_timeeff_reduced': array(0.99378543)}"
      ]
     },
     "execution_count": 6,
     "metadata": {},
     "output_type": "execute_result"
    }
   ],
   "source": [
    "z1"
   ]
  },
  {
   "cell_type": "code",
   "execution_count": 2,
   "id": "careful-counter",
   "metadata": {},
   "outputs": [
    {
     "name": "stdout",
     "output_type": "stream",
     "text": [
      "stan pe0 and pe1: -64.86008126351412 -60.28787050580138\n",
      "stan pe diff: 4.572210757712739\n"
     ]
    }
   ],
   "source": [
    "import numpy as np\n",
    "import numpyro; numpyro.enable_x64()\n",
    "import numpyro.distributions as dist\n",
    "\n",
    "z0 = {}\n",
    "z1 = {}\n",
    "for k in stan_fit.param_names:\n",
    "    if k not in [\"upswing_timeeff_reduced\", \"sd_upswing_timeeff_reduced\"]:\n",
    "        continue\n",
    "    z0[k] = np.array([v[0] for k1, v in params.items() if k1.startswith(k)])\n",
    "    z1[k] = np.array([v[1] for k1, v in params.items() if k1.startswith(k)])\n",
    "\n",
    "    if k == \"upswing_timeeff_reduced\":\n",
    "        shape = (data[\"N_IMP\"], data[\"M\"])\n",
    "        z0[k] = z0[k].reshape((shape[1], shape[0])).T\n",
    "        z1[k] = z1[k].reshape((shape[1], shape[0])).T\n",
    "    else:\n",
    "        z0[k] = z0[k].reshape(())\n",
    "        z1[k] = z1[k].reshape(())\n",
    "    # z0[k] = np.log(z0[k])\n",
    "    # z1[k] = np.log(z1[k])\n",
    "pe0 = params[\"lp__\"][0]\n",
    "pe1 = params[\"lp__\"][1]\n",
    "print(\"stan pe0 and pe1:\", pe0, pe1)\n",
    "print(\"stan pe diff:\", pe1 - pe0)"
   ]
  },
  {
   "cell_type": "code",
   "execution_count": 3,
   "id": "japanese-person",
   "metadata": {},
   "outputs": [
    {
     "name": "stdout",
     "output_type": "stream",
     "text": [
      "numpyro pe0 and pe1: -55.86458776348515 -52.22895307311466\n",
      "numpyro pe diff: 3.6356346903704875\n"
     ]
    }
   ],
   "source": [
    "npe0 = dist.TruncatedDistribution(\n",
    "    dist.Normal(z0[\"upswing_timeeff_reduced\"][:-1], z0[\"sd_upswing_timeeff_reduced\"]), low=0.\n",
    ").log_prob(\n",
    "    z0[\"upswing_timeeff_reduced\"][1:]\n",
    ").sum() + np.log(z0[\"upswing_timeeff_reduced\"]).sum() + np.log(z0[\"sd_upswing_timeeff_reduced\"])\n",
    "npe1 = dist.TruncatedDistribution(\n",
    "    dist.Normal(z1[\"upswing_timeeff_reduced\"][:-1], z1[\"sd_upswing_timeeff_reduced\"]), low=0.\n",
    ").log_prob(\n",
    "    z1[\"upswing_timeeff_reduced\"][1:]\n",
    ").sum() + np.log(z1[\"upswing_timeeff_reduced\"]).sum() + np.log(z1[\"sd_upswing_timeeff_reduced\"])\n",
    "print(\"numpyro pe0 and pe1:\", npe0, npe1)\n",
    "print(\"numpyro pe diff:\", npe1 - npe0)"
   ]
  }
 ],
 "metadata": {
  "kernelspec": {
   "display_name": "Python 3",
   "language": "python",
   "name": "python3"
  },
  "language_info": {
   "codemirror_mode": {
    "name": "ipython",
    "version": 3
   },
   "file_extension": ".py",
   "mimetype": "text/x-python",
   "name": "python",
   "nbconvert_exporter": "python",
   "pygments_lexer": "ipython3",
   "version": "3.8.5"
  }
 },
 "nbformat": 4,
 "nbformat_minor": 5
}
