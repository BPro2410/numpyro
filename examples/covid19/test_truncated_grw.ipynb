{
 "cells": [
  {
   "cell_type": "code",
   "execution_count": 1,
   "id": "ruled-arthritis",
   "metadata": {},
   "outputs": [
    {
     "name": "stderr",
     "output_type": "stream",
     "text": [
      "Building...\n",
      "Messages from stanc:\n",
      "Warning:\n",
      "  The parameter upswing_timeeff_reduced has 2 priors.\n",
      "Found model in cache. Done.\n",
      "Sampling...\n",
      "  0/22 [>---------------------------]   0%  1 sec/0     \n",
      " 22/22 [============================] 100%  1 sec/0     \n",
      " 22/22 [============================] 100%  1 sec/0   Messages received during sampling:\n",
      "  Gradient evaluation took 4.8e-05 seconds\n",
      "  1000 transitions using 10 leapfrog steps per transition would take 0.48 seconds.\n",
      "  Adjust your expectations accordingly!\n",
      "  WARNING: There aren't enough warmup iterations to fit the\n",
      "           three stages of adaptation as currently configured.\n",
      "           Reducing each adaptation stage to 15%/75%/10% of\n",
      "           the given number of warmup iterations:\n",
      "             init_buffer = 3\n",
      "             adapt_window = 15\n",
      "             term_buffer = 2\n",
      "  Informational Message: The current Metropolis proposal is about to be rejected because of the following issue:\n",
      "  Exception: normal_lpdf: Scale parameter is 0, but must be positive! (in '/tmp/httpstan_y348adue/model_c2rwpssl.stan', line 13, column 2 to column 156)\n",
      "  If this warning occurs sporadically, such as for highly constrained variable types like covariance matrices, then the sampler is fine,\n",
      "  but if this warning occurs often then your model may be either severely ill-conditioned or misspecified.\n",
      "\n",
      " 22/22 [============================] 100%  1 sec/0     \n",
      "Done.\n"
     ]
    }
   ],
   "source": [
    "import nest_asyncio; nest_asyncio.apply()\n",
    "import stan\n",
    "\n",
    "from data import get_data\n",
    "\n",
    "truncated_code = \"\"\"\n",
    "data {\n",
    "  int<lower=1> M; // number of countries\n",
    "  int<lower=1> N2; // days of observed data + # of days to forecast\n",
    "  int<lower=1, upper=N2> N_IMP; // number of impact invervention time effects\n",
    "}\n",
    "parameters {\n",
    "  real<lower=0> upswing_timeeff_reduced[N_IMP,M];\n",
    "  real<lower=0> sd_upswing_timeeff_reduced;\n",
    "}\n",
    "model {\n",
    "  target += normal_lpdf(upswing_timeeff_reduced[1,:] | 0, 0.025);\n",
    "  target += normal_lpdf( to_array_1d(upswing_timeeff_reduced[2:N_IMP,:]) | to_array_1d(upswing_timeeff_reduced[1:(N_IMP-1),:]), sd_upswing_timeeff_reduced);\n",
    "}\n",
    "\"\"\"\n",
    "\n",
    "data = get_data()\n",
    "truncated_data = {k: v for k, v in data.items() if k in [\"M\", \"N2\", \"N_IMP\"]}\n",
    "\n",
    "stan_model = stan.build(truncated_code, data=truncated_data, random_seed=1)\n",
    "stan_fit = stan_model.sample(num_chains=1, num_warmup=20, stepsize=1, max_depth=5, num_samples=2)\n",
    "params = stan_fit.to_frame().to_dict()"
   ]
  },
  {
   "cell_type": "code",
   "execution_count": 2,
   "id": "innovative-tonight",
   "metadata": {},
   "outputs": [
    {
     "name": "stdout",
     "output_type": "stream",
     "text": [
      "stan pe0 and pe1: -55.268647979854 -62.03862765427405\n",
      "stan pe diff: -6.76997967442005\n"
     ]
    }
   ],
   "source": [
    "import numpy as np\n",
    "import numpyro; numpyro.enable_x64()\n",
    "import numpyro.distributions as dist\n",
    "\n",
    "z0 = {}\n",
    "z1 = {}\n",
    "for k in stan_fit.param_names:\n",
    "    if k not in [\"upswing_timeeff_reduced\", \"sd_upswing_timeeff_reduced\"]:\n",
    "        continue\n",
    "    z0[k] = np.array([v[0] for k1, v in params.items() if k1.startswith(k)])\n",
    "    z1[k] = np.array([v[1] for k1, v in params.items() if k1.startswith(k)])\n",
    "\n",
    "    if k == \"upswing_timeeff_reduced\":\n",
    "        shape = (data[\"N_IMP\"], data[\"M\"])\n",
    "        z0[k] = z0[k].reshape((shape[1], shape[0])).T\n",
    "        z1[k] = z1[k].reshape((shape[1], shape[0])).T\n",
    "    else:\n",
    "        z0[k] = z0[k].reshape(())\n",
    "        z1[k] = z1[k].reshape(())\n",
    "    # z0[k] = np.log(z0[k])\n",
    "    # z1[k] = np.log(z1[k])\n",
    "pe0 = params[\"lp__\"][0]\n",
    "pe1 = params[\"lp__\"][1]\n",
    "print(\"stan pe0 and pe1:\", pe0, pe1)\n",
    "print(\"stan pe diff:\", pe1 - pe0)"
   ]
  },
  {
   "cell_type": "code",
   "execution_count": 3,
   "id": "boring-investor",
   "metadata": {},
   "outputs": [
    {
     "name": "stdout",
     "output_type": "stream",
     "text": [
      "numpyro pe0 and pe1: -55.26864797985401 -62.03862765427405\n",
      "numpyro pe diff: -6.769979674420043\n"
     ]
    }
   ],
   "source": [
    "npe0 = dist.Normal(z0[\"upswing_timeeff_reduced\"][:-1], z0[\"sd_upswing_timeeff_reduced\"]).log_prob(\n",
    "    z0[\"upswing_timeeff_reduced\"][1:]\n",
    ").sum() + np.log(z0[\"upswing_timeeff_reduced\"]).sum() + np.log(z0[\"sd_upswing_timeeff_reduced\"]) \\\n",
    "    + dist.Normal(0, 0.025).log_prob(z0[\"upswing_timeeff_reduced\"][0]).sum()\n",
    "npe1 = dist.Normal(z1[\"upswing_timeeff_reduced\"][:-1], z1[\"sd_upswing_timeeff_reduced\"]).log_prob(\n",
    "    z1[\"upswing_timeeff_reduced\"][1:]\n",
    ").sum() + np.log(z1[\"upswing_timeeff_reduced\"]).sum() + np.log(z1[\"sd_upswing_timeeff_reduced\"]) \\\n",
    "    + dist.Normal(0, 0.025).log_prob(z1[\"upswing_timeeff_reduced\"][0]).sum()\n",
    "print(\"numpyro pe0 and pe1:\", npe0, npe1)\n",
    "print(\"numpyro pe diff:\", npe1 - npe0)"
   ]
  },
  {
   "cell_type": "code",
   "execution_count": 4,
   "id": "mexican-shame",
   "metadata": {},
   "outputs": [
    {
     "name": "stdout",
     "output_type": "stream",
     "text": [
      "numpyro pe0 and pe1: -46.0968679263607 -54.15022184588899\n",
      "numpyro pe diff: -8.053353919528291\n"
     ]
    }
   ],
   "source": [
    "npe0 = dist.TruncatedDistribution(\n",
    "    dist.Normal(z0[\"upswing_timeeff_reduced\"][:-1], z0[\"sd_upswing_timeeff_reduced\"]), low=0.).log_prob(\n",
    "    z0[\"upswing_timeeff_reduced\"][1:]\n",
    ").sum() + np.log(z0[\"upswing_timeeff_reduced\"]).sum() + np.log(z0[\"sd_upswing_timeeff_reduced\"]) \\\n",
    "    + dist.HalfNormal(0.025).log_prob(z0[\"upswing_timeeff_reduced\"][0]).sum()\n",
    "npe1 = dist.TruncatedDistribution(\n",
    "    dist.Normal(z1[\"upswing_timeeff_reduced\"][:-1], z1[\"sd_upswing_timeeff_reduced\"]), low=0.).log_prob(\n",
    "    z1[\"upswing_timeeff_reduced\"][1:]\n",
    ").sum() + np.log(z1[\"upswing_timeeff_reduced\"]).sum() + np.log(z1[\"sd_upswing_timeeff_reduced\"]) \\\n",
    "    + dist.Normal(0, 0.025).log_prob(z1[\"upswing_timeeff_reduced\"][0]).sum()\n",
    "print(\"numpyro pe0 and pe1:\", npe0, npe1)\n",
    "print(\"numpyro pe diff:\", npe1 - npe0)"
   ]
  }
 ],
 "metadata": {
  "kernelspec": {
   "display_name": "Python 3",
   "language": "python",
   "name": "python3"
  },
  "language_info": {
   "codemirror_mode": {
    "name": "ipython",
    "version": 3
   },
   "file_extension": ".py",
   "mimetype": "text/x-python",
   "name": "python",
   "nbconvert_exporter": "python",
   "pygments_lexer": "ipython3",
   "version": "3.8.5"
  }
 },
 "nbformat": 4,
 "nbformat_minor": 5
}
