{
 "cells": [
  {
   "cell_type": "markdown",
   "metadata": {},
   "source": [
    "```\n",
    "pip install --pre pystan\n",
    "```"
   ]
  },
  {
   "cell_type": "code",
   "execution_count": 1,
   "metadata": {},
   "outputs": [],
   "source": [
    "import nest_asyncio; nest_asyncio.apply()\n",
    "import stan\n",
    "\n",
    "import numpy as np\n",
    "\n",
    "import jax\n",
    "\n",
    "import numpyro; numpyro.enable_x64()\n",
    "from numpyro.distributions import constraints, biject_to\n",
    "from numpyro.infer import MCMC, NUTS\n",
    "\n",
    "from age_model import model\n",
    "from data import get_data, transform_data"
   ]
  },
  {
   "cell_type": "code",
   "execution_count": 2,
   "metadata": {},
   "outputs": [
    {
     "name": "stderr",
     "output_type": "stream",
     "text": [
      "sample: 100%|██████████| 1/1 [00:26<00:00, 26.94s/it, 1 steps of size 2.00e-02. acc. prob=0.00]\n"
     ]
    }
   ],
   "source": [
    "data = get_data()\n",
    "transformed_data = transform_data(data)\n",
    "kernel = NUTS(model, step_size=0.02, max_tree_depth=15, target_accept_prob=0.95)\n",
    "mcmc = MCMC(kernel, num_warmup=0, num_samples=1)\n",
    "mcmc.run(np.zeros(2, dtype=np.uint32), transformed_data)\n",
    "z = {k: v[0] for k, v in mcmc.get_samples().items()}"
   ]
  },
  {
   "cell_type": "code",
   "execution_count": 3,
   "metadata": {},
   "outputs": [
    {
     "name": "stderr",
     "output_type": "stream",
     "text": [
      "Building...\n",
      "Messages from stanc:\n",
      "Warning:\n",
      "  The parameter impact_intv_children_effect has no priors.\n",
      "Warning:\n",
      "  The parameter log_ifr_age_base has no priors.\n",
      "Warning:\n",
      "  The parameter log_relsusceptibility_age_reduced has 2 priors.\n",
      "Warning:\n",
      "  The parameter upswing_timeeff_reduced has 2 priors.\n",
      "Warning:\n",
      "  Your Stan program has a parameter impact_intv_children_effect with a lower\n",
      "  and upper bound in its declaration. These hard constraints are not\n",
      "  recommended, for two reasons: (a) Except when there are logical or physical\n",
      "  constraints, it is very unusual for you to be sure that a parameter will\n",
      "  fall inside a specified range, and (b) The infinite gradient induced by a\n",
      "  hard constraint can cause difficulties for Stan's sampling algorithm. As a\n",
      "  consequence, we recommend soft constraints rather than hard constraints;\n",
      "  for example, instead of constraining an elasticity parameter to fall\n",
      "  between 0, and 1, leave it unconstrained and give it a normal(0.5,0.5)\n",
      "  prior distribution.\n",
      "Warning at '/tmp/httpstan_8bo7c2vp/model_636ufni4.stan', line 7, column 24 to column 25:\n",
      "  The variable p may not have been assigned a value before its use.\n",
      "Warning at '/tmp/httpstan_8bo7c2vp/model_636ufni4.stan', line 595, column 23 to column 41:\n",
      "  The variable countries_log_dens may not have been assigned a value before\n",
      "  its use.\n",
      "Found model in cache. Done.\n",
      "Sampling...\n",
      "  0/22 [>---------------------------]   0%  1 sec/0     \n",
      "  1/22 [=>--------------------------]   4%  1 sec/22    \n",
      "  1/22 [=>--------------------------]   4% 3 secs/45    \n",
      "  1/22 [=>--------------------------]   4% 4 secs/67    \n",
      "  1/22 [=>--------------------------]   4% 5 secs/89    \n",
      "  1/22 [=>--------------------------]   4% 6 secs/112   \n",
      "  1/22 [=>--------------------------]   4% 7 secs/134   \n",
      "  1/22 [=>--------------------------]   4% 8 secs/156   \n",
      " 21/22 [==========================>-]  95% 8 secs/8     \n",
      " 22/22 [============================] 100% 9 secs/8     \n",
      " 22/22 [============================] 100% 9 secs/8     \n",
      " 22/22 [============================] 100% 9 secs/8     \n",
      " 22/22 [============================] 100% 9 secs/8     \n",
      " 22/22 [============================] 100% 9 secs/8     \n",
      " 22/22 [============================] 100% 9 secs/8     \n",
      " 22/22 [============================] 100% 9 secs/8     \n",
      " 22/22 [============================] 100% 9 secs/8     \n",
      " 22/22 [============================] 100% 9 secs/9     \n",
      " 22/22 [============================] 100% 9 secs/9     \n",
      " 22/22 [============================] 100% 9 secs/9     \n",
      " 22/22 [============================] 100% 9 secs/9     \n",
      " 22/22 [============================] 100% 9 secs/9     \n",
      " 22/22 [============================] 100% 9 secs/9     \n",
      " 22/22 [============================] 100% 9 secs/9     \n",
      " 22/22 [============================] 100% 9 secs/9     \n",
      " 22/22 [============================] 100% 9 secs/9     \n",
      " 22/22 [============================] 100% 9 secs/9     \n",
      " 22/22 [============================] 100% 9 secs/9     \n",
      " 22/22 [============================] 100% 9 secs/9     \n",
      " 22/22 [============================] 100% 9 secs/9   Messages received during sampling:\n",
      "  Gradient evaluation took 0.039704 seconds\n",
      "  1000 transitions using 10 leapfrog steps per transition would take 397.04 seconds.\n",
      "  Adjust your expectations accordingly!\n",
      "  WARNING: There aren't enough warmup iterations to fit the\n",
      "           three stages of adaptation as currently configured.\n",
      "           Reducing each adaptation stage to 15%/75%/10% of\n",
      "           the given number of warmup iterations:\n",
      "             init_buffer = 3\n",
      "             adapt_window = 15\n",
      "             term_buffer = 2\n",
      "\n",
      " 22/22 [============================] 100% 9 secs/9     \n",
      "Done.\n"
     ]
    }
   ],
   "source": [
    "with open(\"stan_model_test2.stan\") as f:\n",
    "    stan_code = f.read()\n",
    "stan_model = stan.build(stan_code, data=data, random_seed=1)\n",
    "stan_fit = stan_model.sample(num_chains=1, num_warmup=20, stepsize=1e-6, max_depth=5, num_samples=2)"
   ]
  },
  {
   "cell_type": "code",
   "execution_count": 4,
   "metadata": {},
   "outputs": [],
   "source": [
    "params_support = {\n",
    "  \"R0\": constraints.positive,\n",
    "  \"e_cases_N0\": constraints.positive,\n",
    "  \"sd_dip_rnde\": constraints.positive,\n",
    "  \"phi\": constraints.positive,\n",
    "  \"log_ifr_age_base\": constraints.less_than(0.),\n",
    "  \"hyper_log_ifr_age_rnde_mid1\": constraints.positive,\n",
    "  \"hyper_log_ifr_age_rnde_mid2\": constraints.positive,\n",
    "  \"hyper_log_ifr_age_rnde_old\": constraints.positive,\n",
    "  \"log_ifr_age_rnde_mid1\": constraints.positive,\n",
    "  \"log_ifr_age_rnde_mid2\": constraints.positive,\n",
    "  \"log_ifr_age_rnde_old\": constraints.positive,\n",
    "  \"upswing_timeeff_reduced\": constraints.positive,\n",
    "  \"sd_upswing_timeeff_reduced\": constraints.positive,\n",
    "  \"hyper_timeeff_shift_mid1\": constraints.positive,\n",
    "  \"timeeff_shift_mid1\": constraints.positive,\n",
    "  \"impact_intv_children_effect\": constraints.interval(.1, 1.),\n",
    "  \"impact_intv_onlychildren_effect\": constraints.positive\n",
    "}"
   ]
  },
  {
   "cell_type": "code",
   "execution_count": 5,
   "metadata": {},
   "outputs": [
    {
     "name": "stdout",
     "output_type": "stream",
     "text": [
      "stan pe0 and pe1: 45829.99606673507 45827.932293768274\n",
      "stan pe diff: -2.063772966794204\n",
      "numpyro pe0 and pe1: 45829.996066735024 45827.93229376833\n",
      "numpyro pe diff: -2.0637729666923406\n"
     ]
    }
   ],
   "source": [
    "params = stan_fit.to_frame().to_dict()\n",
    "z0 = {}\n",
    "z1 = {}\n",
    "for k in stan_fit.param_names:\n",
    "    if k not in z:\n",
    "        continue\n",
    "    z0[k] = np.array([v[0] for k1, v in params.items() if k1.startswith(k)])\n",
    "    z1[k] = np.array([v[1] for k1, v in params.items() if k1.startswith(k)])\n",
    "    shape = z[k].shape\n",
    "    if len(shape) == 2:\n",
    "        z0[k] = z0[k].reshape((shape[1], shape[0])).T\n",
    "        z1[k] = z1[k].reshape((shape[1], shape[0])).T\n",
    "    elif len(shape) == 0:\n",
    "        z0[k] = z0[k].reshape(())\n",
    "        z1[k] = z1[k].reshape(())\n",
    "    if k in params_support:\n",
    "        z0[k] = biject_to(params_support[k]).inv(z0[k])\n",
    "        z1[k] = biject_to(params_support[k]).inv(z1[k])\n",
    "pe0 = -params[\"lp__\"][0]\n",
    "pe1 = -params[\"lp__\"][1]\n",
    "print(\"stan pe0 and pe1:\", pe0, pe1)\n",
    "print(\"stan pe diff:\", pe1 - pe0)\n",
    "potential_fn = mcmc.sampler._potential_fn_gen(transformed_data)\n",
    "print(\"numpyro pe0 and pe1:\", potential_fn(z0), potential_fn(z1))\n",
    "print(\"numpyro pe diff:\", potential_fn(z1) - potential_fn(z0))"
   ]
  },
  {
   "cell_type": "code",
   "execution_count": 6,
   "metadata": {},
   "outputs": [
    {
     "data": {
      "text/plain": [
       "array([[[ 29,  30,  31,  32,  33,  34,  35],\n",
       "        [ 36,  37,  38,  39,  40,  41,  42],\n",
       "        [ 43,  44,  45,  46,  47,  48,  49],\n",
       "        [ 50,  51,  52,  53,  54,  55,  56],\n",
       "        [ 57,  58,  59,  60,  61,  62,  63],\n",
       "        [ 64,  65,  66,  67,  68,  69,  70],\n",
       "        [ 71,  72,  73,  74,  75,  76,  77],\n",
       "        [ 78,  79,  80,  81,  82,  83,  84],\n",
       "        [ 85,  86,  87,  88,  89,  90,  91],\n",
       "        [ 92,  93,  94,  95,  96,  97,  98],\n",
       "        [ 99, 100, 101, 102, 103, 104, 105],\n",
       "        [106, 107, 108, 109, 110, 111, 112],\n",
       "        [113, 114, 115, 116, 117, 118, 119],\n",
       "        [120, 121, 122, 123, 124, 125, 126],\n",
       "        [127, 128, 129, 130, 131, 132, 133],\n",
       "        [134, 135, 136, 137, 138, 139, 140],\n",
       "        [141, 142, 143, 144, 145, 146, 147],\n",
       "        [148, 149, 150, 151, 152, 153, 154],\n",
       "        [155, 156, 157, 158, 159, 160, 161],\n",
       "        [162, 163, 164, 165, 166, 167, 168],\n",
       "        [169, 170, 171, 172, 173, 174, 175],\n",
       "        [176, 177, 178, 179, 180, 181, 182],\n",
       "        [183, 184, 185, 186, 187, 188, 189],\n",
       "        [190, 191, 192, 193, 194, 195, 196],\n",
       "        [197, 198, 199, 200, 201, 202, 203],\n",
       "        [204, 205, 206, 207, 208, 209, 210],\n",
       "        [211, 212, 213, 214, 215, 216, 217],\n",
       "        [218, 219, 220, 221, 222, 223, 224],\n",
       "        [225, 226, 227, 228, 229, 230, 231],\n",
       "        [232, 233, 234, 235, 236, 237, 238],\n",
       "        [239, 240, 241, 242, 243, 244, 245],\n",
       "        [ -1,  -1,  -1,  -1,  -1,  -1,  -1]],\n",
       "\n",
       "       [[ 31,  32,  33,  34,  35,  36,  37],\n",
       "        [ 38,  39,  40,  41,  42,  43,  44],\n",
       "        [ 45,  46,  47,  48,  49,  50,  51],\n",
       "        [ 52,  53,  54,  55,  56,  57,  58],\n",
       "        [ 59,  60,  61,  62,  63,  64,  65],\n",
       "        [ 66,  67,  68,  69,  70,  71,  72],\n",
       "        [ 73,  74,  75,  76,  77,  78,  79],\n",
       "        [ 80,  81,  82,  83,  84,  85,  86],\n",
       "        [ 87,  88,  89,  90,  91,  92,  93],\n",
       "        [ 94,  95,  96,  97,  98,  99, 100],\n",
       "        [101, 102, 103, 104, 105, 106, 107],\n",
       "        [108, 109, 110, 111, 112, 113, 114],\n",
       "        [115, 116, 117, 118, 119, 120, 121],\n",
       "        [122, 123, 124, 125, 126, 127, 128],\n",
       "        [129, 130, 131, 132, 133, 134, 135],\n",
       "        [136, 137, 138, 139, 140, 141, 142],\n",
       "        [143, 144, 145, 146, 147, 148, 149],\n",
       "        [150, 151, 152, 153, 154, 155, 156],\n",
       "        [157, 158, 159, 160, 161, 162, 163],\n",
       "        [164, 165, 166, 167, 168, 169, 170],\n",
       "        [171, 172, 173, 174, 175, 176, 177],\n",
       "        [178, 179, 180, 181, 182, 183, 184],\n",
       "        [185, 186, 187, 188, 189, 190, 191],\n",
       "        [192, 193, 194, 195, 196, 197, 198],\n",
       "        [199, 200, 201, 202, 203, 204, 205],\n",
       "        [206, 207, 208, 209, 210, 211, 212],\n",
       "        [213, 214, 215, 216, 217, 218, 219],\n",
       "        [220, 221, 222, 223, 224, 225, 226],\n",
       "        [227, 228, 229, 230, 231, 232, 233],\n",
       "        [234, 235, 236, 237, 238, 239, 240],\n",
       "        [241, 242, 243, 244, 245, 246, 247],\n",
       "        [ -1,  -1,  -1,  -1,  -1,  -1,  -1]],\n",
       "\n",
       "       [[ 27,  28,  29,  30,  31,  32,  33],\n",
       "        [ 34,  35,  36,  37,  38,  39,  40],\n",
       "        [ 41,  42,  43,  44,  45,  46,  47],\n",
       "        [ 48,  49,  50,  51,  52,  53,  54],\n",
       "        [ 55,  56,  57,  58,  59,  60,  61],\n",
       "        [ 62,  63,  64,  65,  66,  67,  68],\n",
       "        [ 69,  70,  71,  72,  73,  74,  75],\n",
       "        [ 76,  77,  78,  79,  80,  81,  82],\n",
       "        [ 83,  84,  85,  86,  87,  88,  89],\n",
       "        [ 90,  91,  92,  93,  94,  95,  96],\n",
       "        [ 97,  98,  99, 100, 101, 102, 103],\n",
       "        [104, 105, 106, 107, 108, 109, 110],\n",
       "        [111, 112, 113, 114, 115, 116, 117],\n",
       "        [118, 119, 120, 121, 122, 123, 124],\n",
       "        [125, 126, 127, 128, 129, 130, 131],\n",
       "        [132, 133, 134, 135, 136, 137, 138],\n",
       "        [139, 140, 141, 142, 143, 144, 145],\n",
       "        [146, 147, 148, 149, 150, 151, 152],\n",
       "        [153, 154, 155, 156, 157, 158, 159],\n",
       "        [160, 161, 162, 163, 164, 165, 166],\n",
       "        [167, 168, 169, 170, 171, 172, 173],\n",
       "        [174, 175, 176, 177, 178, 179, 180],\n",
       "        [181, 182, 183, 184, 185, 186, 187],\n",
       "        [188, 189, 190, 191, 192, 193, 194],\n",
       "        [195, 196, 197, 198, 199, 200, 201],\n",
       "        [202, 203, 204, 205, 206, 207, 208],\n",
       "        [209, 210, 211, 212, 213, 214, 215],\n",
       "        [216, 217, 218, 219, 220, 221, 222],\n",
       "        [223, 224, 225, 226, 227, 228, 229],\n",
       "        [230, 231, 232, 233, 234, 235, 236],\n",
       "        [237, 238, 239, 240, 241, 242, 243],\n",
       "        [244, 245, 246, 247, 248, 249, 250]],\n",
       "\n",
       "       [[ 31,  32,  33,  34,  35,  36,  37],\n",
       "        [ 38,  39,  40,  41,  42,  43,  44],\n",
       "        [ 45,  46,  47,  48,  49,  50,  51],\n",
       "        [ 52,  53,  54,  55,  56,  57,  58],\n",
       "        [ 59,  60,  61,  62,  63,  64,  65],\n",
       "        [ 66,  67,  68,  69,  70,  71,  72],\n",
       "        [ 73,  74,  75,  76,  77,  78,  79],\n",
       "        [ 80,  81,  82,  83,  84,  85,  86],\n",
       "        [ 87,  88,  89,  90,  91,  92,  93],\n",
       "        [ 94,  95,  96,  97,  98,  99, 100],\n",
       "        [101, 102, 103, 104, 105, 106, 107],\n",
       "        [108, 109, 110, 111, 112, 113, 114],\n",
       "        [115, 116, 117, 118, 119, 120, 121],\n",
       "        [122, 123, 124, 125, 126, 127, 128],\n",
       "        [129, 130, 131, 132, 133, 134, 135],\n",
       "        [136, 137, 138, 139, 140, 141, 142],\n",
       "        [143, 144, 145, 146, 147, 148, 149],\n",
       "        [150, 151, 152, 153, 154, 155, 156],\n",
       "        [157, 158, 159, 160, 161, 162, 163],\n",
       "        [164, 165, 166, 167, 168, 169, 170],\n",
       "        [171, 172, 173, 174, 175, 176, 177],\n",
       "        [178, 179, 180, 181, 182, 183, 184],\n",
       "        [185, 186, 187, 188, 189, 190, 191],\n",
       "        [192, 193, 194, 195, 196, 197, 198],\n",
       "        [199, 200, 201, 202, 203, 204, 205],\n",
       "        [206, 207, 208, 209, 210, 211, 212],\n",
       "        [213, 214, 215, 216, 217, 218, 219],\n",
       "        [220, 221, 222, 223, 224, 225, 226],\n",
       "        [227, 228, 229, 230, 231, 232, 233],\n",
       "        [234, 235, 236, 237, 238, 239, 240],\n",
       "        [241, 242, 243, 244, 245, 246, 247],\n",
       "        [248, 249, 250, 251, 252, 253, 254]]])"
      ]
     },
     "execution_count": 6,
     "metadata": {},
     "output_type": "execute_result"
    }
   ],
   "source": [
    "data[\"smoothed_logcases_week_map\"]"
   ]
  },
  {
   "cell_type": "markdown",
   "metadata": {},
   "source": [
    "stan pe0 and pe1: 45829.99606673507 45827.932293768274\n",
    "stan pe diff: -2.063772966794204\n",
    "numpyro pe0 and pe1: 45881.68816239705 45879.59112529917\n",
    "numpyro pe diff: -2.0970370978757273"
   ]
  },
  {
   "cell_type": "code",
   "execution_count": 7,
   "metadata": {},
   "outputs": [
    {
     "data": {
      "text/plain": [
       "array([[ -1,  -1],\n",
       "       [ -1,  -1],\n",
       "       [201, 249],\n",
       "       [ -1,  -1]])"
      ]
     },
     "execution_count": 7,
     "metadata": {},
     "output_type": "execute_result"
    }
   ],
   "source": [
    "data[\"school_case_time_idx\"]"
   ]
  },
  {
   "cell_type": "code",
   "execution_count": 8,
   "metadata": {},
   "outputs": [
    {
     "name": "stdout",
     "output_type": "stream",
     "text": [
      "45827.93229376833\n"
     ]
    }
   ],
   "source": [
    "pe_and_grad = jax.jit(jax.value_and_grad(potential_fn))\n",
    "print(pe_and_grad(z1)[0])"
   ]
  },
  {
   "cell_type": "code",
   "execution_count": 9,
   "metadata": {},
   "outputs": [
    {
     "name": "stdout",
     "output_type": "stream",
     "text": [
      "45829.99606673503\n",
      "CPU times: user 31.8 ms, sys: 153 µs, total: 31.9 ms\n",
      "Wall time: 22.1 ms\n"
     ]
    }
   ],
   "source": [
    "%%time\n",
    "a, b = pe_and_grad(z0)\n",
    "print(a)"
   ]
  }
 ],
 "metadata": {
  "kernelspec": {
   "display_name": "Python 3",
   "language": "python",
   "name": "python3"
  },
  "language_info": {
   "codemirror_mode": {
    "name": "ipython",
    "version": 3
   },
   "file_extension": ".py",
   "mimetype": "text/x-python",
   "name": "python",
   "nbconvert_exporter": "python",
   "pygments_lexer": "ipython3",
   "version": "3.8.5"
  }
 },
 "nbformat": 4,
 "nbformat_minor": 4
}
