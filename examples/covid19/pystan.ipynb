{
 "cells": [
  {
   "cell_type": "markdown",
   "metadata": {},
   "source": [
    "```\n",
    "pip install --pre pystan\n",
    "```"
   ]
  },
  {
   "cell_type": "code",
   "execution_count": 1,
   "metadata": {},
   "outputs": [],
   "source": [
    "import nest_asyncio; nest_asyncio.apply()\n",
    "import stan\n",
    "\n",
    "import numpy as np\n",
    "import numpyro; numpyro.enable_x64()\n",
    "from numpyro.infer import MCMC, NUTS\n",
    "from age_model import get_data, transform_data, model"
   ]
  },
  {
   "cell_type": "code",
   "execution_count": 2,
   "metadata": {},
   "outputs": [
    {
     "name": "stderr",
     "output_type": "stream",
     "text": [
      "sample: 100%|██████████| 1/1 [00:22<00:00, 22.21s/it, 1 steps of size 2.00e-02. acc. prob=0.00]\n"
     ]
    }
   ],
   "source": [
    "data = get_data()\n",
    "transformed_data = transform_data(data)\n",
    "kernel = NUTS(model, step_size=0.02, max_tree_depth=15, target_accept_prob=0.95)\n",
    "mcmc = MCMC(kernel, num_warmup=0, num_samples=1)\n",
    "mcmc.run(np.zeros(2, dtype=np.uint32), transformed_data)\n",
    "z = {k: v[0] for k, v in mcmc.get_samples().items()}"
   ]
  },
  {
   "cell_type": "code",
   "execution_count": 3,
   "metadata": {},
   "outputs": [
    {
     "name": "stderr",
     "output_type": "stream",
     "text": [
      "Building... This may take some time.\n",
      "Messages from stanc:\n",
      "Warning:\n",
      "  The parameter impact_intv_children_effect has no priors.\n",
      "Warning:\n",
      "  The parameter log_ifr_age_base has no priors.\n",
      "Warning:\n",
      "  The parameter log_relsusceptibility_age_reduced has 2 priors.\n",
      "Warning:\n",
      "  The parameter upswing_timeeff_reduced has 2 priors.\n",
      "Warning:\n",
      "  Your Stan program has a parameter impact_intv_children_effect with a lower\n",
      "  and upper bound in its declaration. These hard constraints are not\n",
      "  recommended, for two reasons: (a) Except when there are logical or physical\n",
      "  constraints, it is very unusual for you to be sure that a parameter will\n",
      "  fall inside a specified range, and (b) The infinite gradient induced by a\n",
      "  hard constraint can cause difficulties for Stan's sampling algorithm. As a\n",
      "  consequence, we recommend soft constraints rather than hard constraints;\n",
      "  for example, instead of constraining an elasticity parameter to fall\n",
      "  between 0, and 1, leave it unconstrained and give it a normal(0.5,0.5)\n",
      "  prior distribution.\n",
      "Warning at '/tmp/httpstan_bo7drlwj/model_qvsllpqo.stan', line 7, column 24 to column 25:\n",
      "  The variable p may not have been assigned a value before its use.\n",
      "Done.\n",
      "Sampling...\n",
      "  0/22 [>---------------------------]   0%  1 sec/0     \n",
      "  1/22 [=>--------------------------]   4%  1 sec/22    \n",
      "  1/22 [=>--------------------------]   4% 3 secs/45    \n",
      "  1/22 [=>--------------------------]   4% 4 secs/67    \n",
      "  1/22 [=>--------------------------]   4% 5 secs/89    \n",
      "  1/22 [=>--------------------------]   4% 6 secs/111   \n",
      "  1/22 [=>--------------------------]   4% 7 secs/133   \n",
      "  1/22 [=>--------------------------]   4% 8 secs/155   \n",
      " 21/22 [==========================>-]  95% 8 secs/8     \n",
      " 22/22 [============================] 100% 8 secs/8     \n",
      " 22/22 [============================] 100% 8 secs/8     \n",
      " 22/22 [============================] 100% 8 secs/8     \n",
      " 22/22 [============================] 100% 8 secs/8     \n",
      " 22/22 [============================] 100% 8 secs/8     \n",
      " 22/22 [============================] 100% 8 secs/8     \n",
      " 22/22 [============================] 100% 8 secs/8     \n",
      " 22/22 [============================] 100% 8 secs/8     \n",
      " 22/22 [============================] 100% 8 secs/8     \n",
      " 22/22 [============================] 100% 8 secs/8     \n",
      " 22/22 [============================] 100% 8 secs/8     \n",
      " 22/22 [============================] 100% 8 secs/8     \n",
      " 22/22 [============================] 100% 9 secs/8     \n",
      " 22/22 [============================] 100% 9 secs/8     \n",
      " 22/22 [============================] 100% 9 secs/8     \n",
      " 22/22 [============================] 100% 9 secs/8     \n",
      " 22/22 [============================] 100% 9 secs/8     \n",
      " 22/22 [============================] 100% 9 secs/8     \n",
      " 22/22 [============================] 100% 9 secs/8     \n",
      " 22/22 [============================] 100% 9 secs/8     \n",
      " 22/22 [============================] 100% 9 secs/8     \n",
      " 22/22 [============================] 100% 9 secs/8     \n",
      " 22/22 [============================] 100% 9 secs/8     \n",
      " 22/22 [============================] 100% 9 secs/8     \n",
      " 22/22 [============================] 100% 9 secs/8     \n",
      " 22/22 [============================] 100% 9 secs/8     \n",
      " 22/22 [============================] 100% 9 secs/8     \n",
      " 22/22 [============================] 100% 9 secs/8     \n",
      " 22/22 [============================] 100% 9 secs/8     \n",
      " 22/22 [============================] 100% 9 secs/8     \n",
      " 22/22 [============================] 100% 9 secs/8     \n",
      " 22/22 [============================] 100% 9 secs/8     \n",
      " 22/22 [============================] 100% 9 secs/8     \n",
      " 22/22 [============================] 100% 9 secs/8     \n",
      " 22/22 [============================] 100% 9 secs/8     \n",
      " 22/22 [============================] 100% 9 secs/8     \n",
      " 22/22 [============================] 100% 9 secs/8     \n",
      " 22/22 [============================] 100% 9 secs/8     \n",
      " 22/22 [============================] 100% 9 secs/8     \n",
      " 22/22 [============================] 100% 9 secs/8     \n",
      " 22/22 [============================] 100% 9 secs/8     \n",
      " 22/22 [============================] 100% 9 secs/8     \n",
      " 22/22 [============================] 100% 9 secs/8     \n",
      " 22/22 [============================] 100% 9 secs/8     \n",
      " 22/22 [============================] 100% 9 secs/9     \n",
      " 22/22 [============================] 100% 9 secs/9     \n",
      " 22/22 [============================] 100% 9 secs/9     \n",
      " 22/22 [============================] 100% 9 secs/9     \n",
      " 22/22 [============================] 100% 9 secs/9   Messages received during sampling:\n",
      "  Gradient evaluation took 0.034164 seconds\n",
      "  1000 transitions using 10 leapfrog steps per transition would take 341.64 seconds.\n",
      "  Adjust your expectations accordingly!\n",
      "  WARNING: There aren't enough warmup iterations to fit the\n",
      "           three stages of adaptation as currently configured.\n",
      "           Reducing each adaptation stage to 15%/75%/10% of\n",
      "           the given number of warmup iterations:\n",
      "             init_buffer = 3\n",
      "             adapt_window = 15\n",
      "             term_buffer = 2\n",
      "\n",
      " 22/22 [============================] 100% 9 secs/9     \n",
      "Done.\n"
     ]
    }
   ],
   "source": [
    "with open(\"covid19AgeModel_v120_cmdstanv.stan\") as f:\n",
    "    stan_code = f.read()\n",
    "stan_model = stan.build(stan_code, data=data, random_seed=1)\n",
    "stan_fit = stan_model.sample(num_chains=1, num_warmup=20, stepsize=1e-6, max_depth=5, num_samples=2)"
   ]
  },
  {
   "cell_type": "code",
   "execution_count": 4,
   "metadata": {},
   "outputs": [],
   "source": [
    "from numpyro.distributions import constraints, biject_to\n",
    "\n",
    "params_support = {\n",
    "  \"R0\": constraints.positive,\n",
    "  \"e_cases_N0\": constraints.positive,\n",
    "  \"sd_dip_rnde\": constraints.positive,\n",
    "  \"phi\": constraints.positive,\n",
    "  \"log_ifr_age_base\": constraints.less_than(0.),\n",
    "  \"hyper_log_ifr_age_rnde_mid1\": constraints.positive,\n",
    "  \"hyper_log_ifr_age_rnde_mid2\": constraints.positive,\n",
    "  \"hyper_log_ifr_age_rnde_old\": constraints.positive,\n",
    "  \"log_ifr_age_rnde_mid1\": constraints.positive,\n",
    "  \"log_ifr_age_rnde_mid2\": constraints.positive,\n",
    "  \"log_ifr_age_rnde_old\": constraints.positive,\n",
    "  \"upswing_timeeff_reduced\": constraints.positive,\n",
    "  \"sd_upswing_timeeff_reduced\": constraints.positive,\n",
    "  \"hyper_timeeff_shift_mid1\": constraints.positive,\n",
    "  \"timeeff_shift_mid1\": constraints.positive,\n",
    "  \"impact_intv_children_effect\": constraints.interval(.1, 1.),\n",
    "  \"impact_intv_onlychildren_effect\": constraints.positive\n",
    "}"
   ]
  },
  {
   "cell_type": "code",
   "execution_count": 5,
   "metadata": {},
   "outputs": [
    {
     "name": "stdout",
     "output_type": "stream",
     "text": [
      "stan pe diff: -425.20153414834203\n",
      "numpyro pe diff: -424.7370392398516\n"
     ]
    }
   ],
   "source": [
    "params = stan_fit.to_frame().to_dict()\n",
    "z0 = {}\n",
    "z1 = {}\n",
    "for k in stan_fit.param_names:\n",
    "    if k not in z:\n",
    "        continue\n",
    "    z0[k] = np.array([v[0] for k1, v in params.items() if k1.startswith(k)])\n",
    "    z1[k] = np.array([v[1] for k1, v in params.items() if k1.startswith(k)])\n",
    "    shape = z[k].shape\n",
    "    if len(shape) == 2:\n",
    "        z0[k] = z0[k].reshape((shape[1], shape[0])).T\n",
    "        z1[k] = z1[k].reshape((shape[1], shape[0])).T\n",
    "    elif len(shape) == 0:\n",
    "        z0[k] = z0[k].reshape(())\n",
    "        z1[k] = z1[k].reshape(())\n",
    "    if k in params_support:\n",
    "        z0[k] = biject_to(params_support[k]).inv(z0[k])\n",
    "        z1[k] = biject_to(params_support[k]).inv(z1[k])\n",
    "pe0 = params[\"lp__\"][0]\n",
    "pe1 = params[\"lp__\"][1]\n",
    "print(\"stan pe diff:\", pe0 - pe1)\n",
    "potential_fn = mcmc.sampler._potential_fn_gen(transformed_data)\n",
    "print(\"numpyro pe diff:\", potential_fn(z1) - potential_fn(z0))"
   ]
  }
 ],
 "metadata": {
  "kernelspec": {
   "display_name": "Python 3",
   "language": "python",
   "name": "python3"
  },
  "language_info": {
   "codemirror_mode": {
    "name": "ipython",
    "version": 3
   },
   "file_extension": ".py",
   "mimetype": "text/x-python",
   "name": "python",
   "nbconvert_exporter": "python",
   "pygments_lexer": "ipython3",
   "version": "3.8.5"
  }
 },
 "nbformat": 4,
 "nbformat_minor": 4
}
